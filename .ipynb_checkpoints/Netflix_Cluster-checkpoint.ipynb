{
 "cells": [
  {
   "cell_type": "markdown",
   "id": "3a464f16-963a-453e-822a-8769817a4566",
   "metadata": {},
   "source": [
    "## Cleaning The Dataset"
   ]
  },
  {
   "cell_type": "markdown",
   "id": "638cac36-451d-4363-ae56-64b4c6b95f7b",
   "metadata": {},
   "source": [
    "#### 1) Unique values of genre and age"
   ]
  },
  {
   "cell_type": "code",
   "execution_count": 10,
   "id": "21169c9e-92d8-4733-992a-e52ad567d319",
   "metadata": {},
   "outputs": [
    {
     "name": "stdout",
     "output_type": "stream",
     "text": [
      "Genre =  ['action', 'animation', 'comedy', 'crime', 'documentation', 'drama', 'european', 'family', 'fantasy', 'history', 'horror', 'music', 'reality', 'romance', 'scifi', 'sport', 'thriller', 'war', 'western']\n",
      "\n",
      "\n",
      "Age Certification = ['G', 'NC-17', 'PG', 'PG-13', 'R', 'TV-14', 'TV-G', 'TV-MA', 'TV-PG', 'TV-Y', 'TV-Y7']\n"
     ]
    }
   ],
   "source": [
    "import pandas as pd\n",
    "import ast\n",
    "\n",
    "# Load the CSV file\n",
    "df = pd.read_csv(\"archive/titles.csv\")\n",
    "\n",
    "#Extracting unique genre\n",
    "all_genres = set()\n",
    "for val in df['genres'].dropna():\n",
    "    try:\n",
    "        genres_list = ast.literal_eval(val)\n",
    "        all_genres.update(g.strip() for g in genres_list)\n",
    "    except (ValueError, SyntaxError):\n",
    "        continue \n",
    "print(\"Genre = \", sorted(all_genres))\n",
    "print(\"\\n\")\n",
    "\n",
    "#Extracting unique age criteria\n",
    "all_age = set(df['age_certification'].dropna().str.strip())\n",
    "print(\"Age Certification =\", sorted(all_age))"
   ]
  },
  {
   "cell_type": "markdown",
   "id": "404a1836-5a77-4b8b-abe7-e0d56810d9af",
   "metadata": {},
   "source": [
    "#### 2) AGE MAPPING based on GENRE"
   ]
  },
  {
   "cell_type": "code",
   "execution_count": 2,
   "id": "9053aa2a-cb8a-42dc-9dc7-8baf3a3591e8",
   "metadata": {},
   "outputs": [],
   "source": [
    "genre_age_map = {\n",
    "    'animation': 'TV-Y',       \n",
    "    'family': 'TV-G',         \n",
    "    'comedy': 'PG',            \n",
    "    'fantasy': 'PG',           \n",
    "    'music': 'PG',            \n",
    "    'sport': 'PG',             \n",
    "    'romance': 'PG-13',        \n",
    "    'drama': 'PG-13',         \n",
    "    'action': 'PG-13',         \n",
    "    'thriller': 'PG-13',      \n",
    "    'crime': 'R',             \n",
    "    'war': 'R',              \n",
    "    'horror': 'R',           \n",
    "    'western': 'PG-13',        \n",
    "    'scifi': 'PG-13',        \n",
    "    'history': 'PG-13',        \n",
    "    'european': 'PG-13',       \n",
    "    'documentation': 'TV-PG',  \n",
    "    'reality': 'TV-14',       \n",
    "} \n",
    "age_rank = {\n",
    "    'TV-Y': 0,\n",
    "    'TV-Y7': 1,\n",
    "    'TV-G': 2,\n",
    "    'G': 2,\n",
    "    'TV-PG': 3,\n",
    "    'PG': 3,\n",
    "    'TV-14': 4,\n",
    "    'PG-13': 4,\n",
    "    'R': 5,\n",
    "    'NC-17': 6,\n",
    "    'TV-MA': 6\n",
    "}"
   ]
  },
  {
   "cell_type": "code",
   "execution_count": 3,
   "id": "9f788180-530a-4832-bac8-009b3e918e2a",
   "metadata": {},
   "outputs": [],
   "source": [
    "def assign_age(row):\n",
    "    if pd.notna(row['age_certification']):\n",
    "        return row['age_certification']  \n",
    "    \n",
    "    try:\n",
    "        genres = ast.literal_eval(row['genres'])\n",
    "        highest_age = None\n",
    "        max_rank = -1\n",
    "        \n",
    "        for g in genres:\n",
    "            g_clean = g.strip().lower()\n",
    "            if g_clean in genre_age_map:\n",
    "                age = genre_age_map[g_clean]\n",
    "                if age_rank[age] > max_rank:\n",
    "                    highest_age = age\n",
    "                    max_rank = age_rank[age]\n",
    "                    \n",
    "        return highest_age if highest_age else 'NR'\n",
    "    except:\n",
    "        return 'NR'    \n",
    "\n",
    "df['age_certification'] = df.apply(assign_age, axis=1)"
   ]
  },
  {
   "cell_type": "code",
   "execution_count": 4,
   "id": "bbd9890e-e79f-4176-87f0-503452520c1c",
   "metadata": {},
   "outputs": [],
   "source": [
    "#Null season values are assigned 0 - movies\n",
    "#Null imdb_score are assigned 0\n",
    "df.loc[(df['type'] == 'MOVIE') & (df['seasons'].isna()), 'seasons'] = 0\n",
    "df.loc[df['imdb_score'].isna(),'imdb_score']=0"
   ]
  },
  {
   "cell_type": "code",
   "execution_count": 5,
   "id": "3f7777ca-5b04-49af-8611-720cea3155d8",
   "metadata": {},
   "outputs": [
    {
     "name": "stdout",
     "output_type": "stream",
     "text": [
      "Duplicate IDs: []\n"
     ]
    }
   ],
   "source": [
    "#checking for duplicates\n",
    "duplicate_ids = df['id'][df['id'].duplicated()].unique()\n",
    "print(\"Duplicate IDs:\", duplicate_ids)"
   ]
  },
  {
   "cell_type": "markdown",
   "id": "71c4b59a-99ba-4a3b-984d-e23e2457e88d",
   "metadata": {},
   "source": [
    "#### Mapping Age Certification to Kids,Teens and Adults"
   ]
  },
  {
   "cell_type": "code",
   "execution_count": 6,
   "id": "73452205-e84f-4fb3-a51b-f09b52cd3b6c",
   "metadata": {},
   "outputs": [],
   "source": [
    "age_group_map = {\n",
    "    'TV-Y': 'Kids',\n",
    "    'TV-Y7': 'Kids',\n",
    "    'G': 'Kids',\n",
    "    'TV-G': 'Kids',\n",
    "    'PG': 'Teens',\n",
    "    'TV-PG': 'Teens',\n",
    "    'PG-13': 'Teens',\n",
    "    'TV-14': 'Teens',\n",
    "    'R': 'Adults',\n",
    "    'NC-17': 'Adults',\n",
    "    'TV-MA': 'Adults'\n",
    "}"
   ]
  },
  {
   "cell_type": "code",
   "execution_count": 7,
   "id": "54028e09-8adc-4eea-affd-8a46e99b6074",
   "metadata": {},
   "outputs": [],
   "source": [
    "df['age_group'] = df['age_certification'].map(age_group_map)\n",
    "df['age_group'] = df['age_group'].fillna('unknown')"
   ]
  },
  {
   "cell_type": "code",
   "execution_count": 8,
   "id": "c7ce63ee-6551-434e-aacf-84df58c41863",
   "metadata": {},
   "outputs": [],
   "source": [
    "age_rating_map = {\n",
    "    'Kids': 1,\n",
    "    'Teens': 2,\n",
    "    'Adults': 3\n",
    "}\n",
    "\n",
    "# Apply the mapping to create a new column\n",
    "df['Rating'] = df['age_group'].map(age_rating_map)"
   ]
  },
  {
   "cell_type": "code",
   "execution_count": null,
   "id": "fe7a2785-c174-4085-880a-001b4c30e3d7",
   "metadata": {},
   "outputs": [],
   "source": [
    "df.to_csv(\"cleaned_data.csv\",index=False)"
   ]
  },
  {
   "cell_type": "markdown",
   "id": "40948715-7371-4a0a-9daf-224d11aa1192",
   "metadata": {},
   "source": [
    "#### Multi-Hot Encoding (Binary encoding ) of genres."
   ]
  },
  {
   "cell_type": "code",
   "execution_count": 9,
   "id": "b2b4d2f1-10e5-4143-bbd4-f501b7baac23",
   "metadata": {},
   "outputs": [],
   "source": [
    "df['genres'] = df['genres'].apply(ast.literal_eval)\n",
    "\n",
    "from sklearn.preprocessing import MultiLabelBinarizer\n",
    "mlb = MultiLabelBinarizer()\n",
    "\n",
    "multi_hot = pd.DataFrame(\n",
    "    mlb.fit_transform(df['genres']),\n",
    "    columns=mlb.classes_,\n",
    "    index=df.index\n",
    ")\n",
    "\n",
    "df = pd.concat([df, multi_hot], axis=1)"
   ]
  },
  {
   "cell_type": "code",
   "execution_count": 10,
   "id": "792a93f3-7a31-40fe-a5d0-57b05333be68",
   "metadata": {},
   "outputs": [],
   "source": [
    "#Normalising Rating\n",
    "from sklearn.preprocessing import MinMaxScaler\n",
    "\n",
    "scaler = MinMaxScaler()\n",
    "df[['normalized_rating']] = scaler.fit_transform(df[['imdb_score']])\n"
   ]
  },
  {
   "cell_type": "code",
   "execution_count": 11,
   "id": "9f83add7-37da-4596-b11b-7532f513070a",
   "metadata": {},
   "outputs": [
    {
     "data": {
      "text/plain": [
       "0    0.0\n",
       "1    8.2\n",
       "2    7.7\n",
       "3    8.2\n",
       "4    7.7\n",
       "5    8.8\n",
       "6    8.0\n",
       "7    7.7\n",
       "8    7.7\n",
       "9    5.8\n",
       "Name: imdb_score, dtype: float64"
      ]
     },
     "execution_count": 11,
     "metadata": {},
     "output_type": "execute_result"
    }
   ],
   "source": [
    "df['imdb_score'].head(10)"
   ]
  },
  {
   "cell_type": "code",
   "execution_count": 12,
   "id": "8e7b6213-7a21-4b3f-b6c3-1041558059ac",
   "metadata": {},
   "outputs": [
    {
     "name": "stdout",
     "output_type": "stream",
     "text": [
      "   imdb_score  normalized_rating\n",
      "0         0.0           0.000000\n",
      "1         8.2           0.854167\n",
      "2         7.7           0.802083\n",
      "3         8.2           0.854167\n",
      "4         7.7           0.802083\n"
     ]
    }
   ],
   "source": [
    "print(df[['imdb_score', 'normalized_rating']].head())"
   ]
  },
  {
   "cell_type": "markdown",
   "id": "33a28a19-2238-45c6-b6bf-8da799e19c3c",
   "metadata": {},
   "source": [
    "#### Multi-hot encoding of Type"
   ]
  },
  {
   "cell_type": "code",
   "execution_count": 13,
   "id": "b0fe6616-231c-4243-8cf1-98477c1b8812",
   "metadata": {},
   "outputs": [],
   "source": [
    "# One-hot encode the 'type' column (MOVIE / SHOW)\n",
    "type_dummies = pd.get_dummies(df['type'], prefix='type')\n",
    "\n",
    "# Add the new columns to your dataframe\n",
    "df = pd.concat([df, type_dummies], axis=1)"
   ]
  },
  {
   "cell_type": "markdown",
   "id": "4cbdf4cd-cb8e-48a4-aa29-8c0179d89299",
   "metadata": {},
   "source": [
    "#### Multi-hot encoding of Rating-kids adults,teens"
   ]
  },
  {
   "cell_type": "code",
   "execution_count": 14,
   "id": "1cd7a0e3-9256-4136-b638-c5939f3fa5e6",
   "metadata": {},
   "outputs": [],
   "source": [
    "# One-hot encode the 'type' column (MOVIE / SHOW)\n",
    "age_group_dummies = pd.get_dummies(df['age_group'], prefix='age_group')\n",
    "\n",
    "# Add the new columns to your dataframe\n",
    "df = pd.concat([df, age_group_dummies], axis=1)"
   ]
  },
  {
   "cell_type": "code",
   "execution_count": 15,
   "id": "c8118860-0fda-4a2c-8573-570e452c3b5e",
   "metadata": {},
   "outputs": [],
   "source": [
    "df.to_csv(\"cleaned_data2.csv\",index=False)"
   ]
  },
  {
   "cell_type": "markdown",
   "id": "e7eb3971-c0ba-430b-8b6e-199fa4d24e6a",
   "metadata": {},
   "source": [
    "#### Cosine Similarity Model"
   ]
  },
  {
   "cell_type": "code",
   "execution_count": 17,
   "id": "e7201c9d-d2c7-46af-96cf-8dbb2a30d693",
   "metadata": {
    "scrolled": true
   },
   "outputs": [
    {
     "data": {
      "text/plain": [
       "['Narcos', 'Wentworth', 'Mindhunter', 'Ozark', 'Beyond Evil']"
      ]
     },
     "execution_count": 17,
     "metadata": {},
     "output_type": "execute_result"
    }
   ],
   "source": [
    "from sklearn.metrics.pairwise import cosine_similarity\n",
    "\n",
    "# 1. Select your final features\n",
    "feature_cols = list(all_genres) + ['normalized_rating'] +list(type_dummies.columns) + list(age_group_dummies.columns) \n",
    "\n",
    "# 2. Create feature matrix\n",
    "X = df[feature_cols]\n",
    "\n",
    "# 3. Compute cosine similarity matrix\n",
    "similarity_matrix = cosine_similarity(X)\n",
    "\n",
    "# 4. Recommend similar items for a given movie/show\n",
    "def recommend_similar_items(title, top_n=5):\n",
    "    idx = df[df['title'] == title].index[0]\n",
    "    sim_scores = list(enumerate(similarity_matrix[idx]))\n",
    "    sim_scores = sorted(sim_scores, key=lambda x: x[1], reverse=True)[1:top_n+1]\n",
    "    similar_items = [df.iloc[i[0]]['title'] for i in sim_scores]\n",
    "    return similar_items\n",
    "\n",
    "# Example\n",
    "recommend_similar_items('Breaking Bad')\n"
   ]
  },
  {
   "cell_type": "markdown",
   "id": "5de96a8a-4be1-4dfa-99ac-699c17acbcc8",
   "metadata": {},
   "source": [
    "#### K-Nearest Neighbour Model "
   ]
  },
  {
   "cell_type": "code",
   "execution_count": 18,
   "id": "0d7601aa-17bf-4743-b257-7297f183161e",
   "metadata": {
    "scrolled": true
   },
   "outputs": [
    {
     "name": "stdout",
     "output_type": "stream",
     "text": [
      "Heavy\n",
      "Malcolm & Marie\n",
      "Lust Stories\n",
      "Anonymously Yours\n",
      "After We Collided\n"
     ]
    }
   ],
   "source": [
    "from sklearn.neighbors import NearestNeighbors\n",
    "feature_cols = list(all_genres) + ['normalized_rating'] +list(type_dummies.columns) + list(age_group_dummies.columns) \n",
    "\n",
    "# Use same feature_cols from above\n",
    "X = df[feature_cols]\n",
    "\n",
    "model_knn = NearestNeighbors(metric='cosine', algorithm='brute')\n",
    "model_knn.fit(X)\n",
    "\n",
    "# Query using a sample row or user vector\n",
    "sample_index = df[df['title'] == 'Phantom Thread'].index[0]\n",
    "distances, indices = model_knn.kneighbors(X.iloc[[sample_index]], n_neighbors=6)\n",
    "\n",
    "# Show recommendations\n",
    "for i in indices[0][1:]:\n",
    "    print(df.iloc[i]['title'])\n"
   ]
  },
  {
   "cell_type": "markdown",
   "id": "156a4793-07e0-40e3-babf-f30178e0211e",
   "metadata": {},
   "source": [
    "#### K-Means Cluster"
   ]
  },
  {
   "cell_type": "code",
   "execution_count": 19,
   "id": "2dea4fcf-bd8e-4d3e-9d6d-8b5e60ada4b7",
   "metadata": {},
   "outputs": [
    {
     "data": {
      "text/plain": [
       "['Word Party Songs',\n",
       " 'Lost Bullet',\n",
       " 'The Comedy Lineup',\n",
       " 'COMEDIANS of the world',\n",
       " 'The World Is Yours']"
      ]
     },
     "execution_count": 19,
     "metadata": {},
     "output_type": "execute_result"
    }
   ],
   "source": [
    "from sklearn.cluster import KMeans\n",
    "\n",
    "feature_cols = list(all_genres) + ['normalized_rating'] +list(type_dummies.columns) + list(age_group_dummies.columns)\n",
    "X = df[feature_cols]\n",
    "\n",
    "# Step 2: Fit KMeans\n",
    "kmeans = KMeans(n_clusters=2, random_state=42)\n",
    "df['cluster'] = kmeans.fit_predict(X)\n",
    "\n",
    "# Step 3: Get recommendations from the same cluster\n",
    "def recommend_by_cluster(title, top_n=5):\n",
    "    cluster_label = df[df['title'] == title]['cluster'].values[0]\n",
    "    cluster_group = df[df['cluster'] == cluster_label]\n",
    "    recommendations = cluster_group[cluster_group['title'] != title].sample(n=top_n)\n",
    "    return recommendations['title'].tolist()\n",
    "\n",
    "recommend_by_cluster(\"Breaking Bad\")\n"
   ]
  },
  {
   "cell_type": "code",
   "execution_count": 56,
   "id": "ef0cc3ef-6e12-4c4b-936d-35583e3dc878",
   "metadata": {},
   "outputs": [
    {
     "data": {
      "image/png": "[encoded data removed]",
      "text/plain": [
       "<Figure size 640x480 with 1 Axes>"
      ]
     },
     "metadata": {},
     "output_type": "display_data"
    }
   ],
   "source": [
    "import matplotlib.pyplot as plt\n",
    "from sklearn.cluster import KMeans\n",
    "\n",
    "wcss = []\n",
    "for k in range(1, 15):\n",
    "    kmeans = KMeans(n_clusters=k, random_state=42)\n",
    "    kmeans.fit(X)\n",
    "    wcss.append(kmeans.inertia_)\n",
    "\n",
    "# Plot the elbow curve\n",
    "plt.plot(range(1, 15), wcss, marker='o')\n",
    "plt.title('Elbow Method')\n",
    "plt.xlabel('Number of clusters (k)')\n",
    "plt.ylabel('WCSS')\n",
    "plt.grid()\n",
    "plt.show()\n"
   ]
  },
  {
   "cell_type": "code",
   "execution_count": 40,
   "id": "5f8ef79c-9e0f-4eb2-b1ee-ae983c68b434",
   "metadata": {},
   "outputs": [
    {
     "name": "stdout",
     "output_type": "stream",
     "text": [
      "k = 2, silhouette score = 0.4579\n",
      "k = 3, silhouette score = 0.5306\n",
      "k = 4, silhouette score = 0.3222\n",
      "k = 5, silhouette score = 0.3091\n",
      "k = 6, silhouette score = 0.2013\n",
      "k = 7, silhouette score = 0.2225\n",
      "k = 8, silhouette score = 0.1901\n",
      "k = 9, silhouette score = 0.1979\n"
     ]
    }
   ],
   "source": [
    "from sklearn.metrics import silhouette_score\n",
    "\n",
    "for k in range(2, 10):\n",
    "    kmeans = KMeans(n_clusters=k, random_state=42)\n",
    "    labels = kmeans.fit_predict(X)\n",
    "    score = silhouette_score(X, labels)\n",
    "    print(f\"k = {k}, silhouette score = {score:.4f}\")\n"
   ]
  },
  {
   "cell_type": "code",
   "execution_count": 70,
   "id": "a0d9e141-df75-4764-9ac5-ccae3a40ef95",
   "metadata": {},
   "outputs": [
    {
     "data": {
      "image/png": "[encoded data removed]",
      "text/plain": [
       "<Figure size 1000x600 with 2 Axes>"
      ]
     },
     "metadata": {},
     "output_type": "display_data"
    }
   ],
   "source": [
    "import matplotlib.pyplot as plt\n",
    "from sklearn.decomposition import PCA\n",
    "\n",
    "# Step 1: Reduce dimensions to 2 principal components\n",
    "pca = PCA(n_components=2)\n",
    "X_pca = pca.fit_transform(X)  # X is your feature matrix\n",
    "\n",
    "# Step 2: Add PCA results and cluster labels to DataFrame for plotting\n",
    "df['pca1'] = X_pca[:, 0]\n",
    "df['pca2'] = X_pca[:, 1]\n",
    "\n",
    "# Step 3: Plot the clusters\n",
    "plt.figure(figsize=(10, 6))\n",
    "scatter = plt.scatter(df['pca1'], df['pca2'], c=df['cluster'], cmap='viridis', s=50, alpha=0.7)\n",
    "\n",
    "# Optional: Add legend and labels\n",
    "plt.title(\"K-Means Clusters Visualized in 2D (via PCA)\", fontsize=14)\n",
    "plt.xlabel(\"Principal Component 1\")\n",
    "plt.ylabel(\"Principal Component 2\")\n",
    "plt.colorbar(scatter, label=\"Cluster\")\n",
    "plt.grid(True)\n",
    "plt.show()\n"
   ]
  }
 ],
 "metadata": {
  "kernelspec": {
   "display_name": "Python (projectspark)",
   "language": "python",
   "name": "projectspark"
  },
  "language_info": {
   "codemirror_mode": {
    "name": "ipython",
    "version": 3
   },
   "file_extension": ".py",
   "mimetype": "text/x-python",
   "name": "python",
   "nbconvert_exporter": "python",
   "pygments_lexer": "ipython3",
   "version": "3.10.16"
  }
 },
 "nbformat": 4,
 "nbformat_minor": 5
}
